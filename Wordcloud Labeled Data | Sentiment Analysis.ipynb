{
 "cells": [
  {
   "cell_type": "markdown",
   "metadata": {
    "id": "YVZzW9PRfKoR"
   },
   "source": [
    "# **Case Indonesian Sentiment Twitter Dataset**"
   ]
  },
  {
   "cell_type": "markdown",
   "metadata": {
    "id": "sdXg-n9Mf2Nf"
   },
   "source": [
    "Dataset:\n",
    "\n",
    "*   Dataset Labeled - [Download](https://drive.google.com/file/d/1GHFVtBnCGLzKVYT1lxFY2XNVV59Bqn3Q/view?usp=sharing)\n",
    "*   Dataset Unlabeled - [Download](https://drive.google.com/file/d/1n_Dy8cGCPJdQi_3kr6lD8x8r5llf0Aag/view?usp=sharing)\n",
    "\n"
   ]
  },
  {
   "cell_type": "markdown",
   "metadata": {
    "id": "_cuFnXYQraCb"
   },
   "source": [
    "## Mount"
   ]
  },
  {
   "cell_type": "code",
   "execution_count": 1,
   "metadata": {
    "colab": {
     "base_uri": "https://localhost:8080/"
    },
    "id": "x4wTeGFBrciE",
    "outputId": "41469490-59a0-490d-81cb-d341f58efe07"
   },
   "outputs": [],
   "source": [
    "# from google.colab import drive\n",
    "# drive.mount('/content/drive')"
   ]
  },
  {
   "cell_type": "markdown",
   "metadata": {
    "id": "rOnMUZYwWFRH"
   },
   "source": [
    "## Install Sastrawi dan NLTK"
   ]
  },
  {
   "cell_type": "code",
   "execution_count": 2,
   "metadata": {
    "colab": {
     "base_uri": "https://localhost:8080/"
    },
    "id": "6ZKEZYQDUjid",
    "outputId": "fdc0d170-9446-4634-aabd-b87aac2803b2"
   },
   "outputs": [
    {
     "name": "stdout",
     "output_type": "stream",
     "text": [
      "Requirement already satisfied: Sastrawi in /Users/alfarizy/opt/anaconda3/lib/python3.9/site-packages (1.0.1)\n",
      "Note: you may need to restart the kernel to use updated packages.\n"
     ]
    }
   ],
   "source": [
    "pip install Sastrawi"
   ]
  },
  {
   "cell_type": "code",
   "execution_count": 3,
   "metadata": {
    "colab": {
     "base_uri": "https://localhost:8080/"
    },
    "id": "61ioqdcVZAm1",
    "outputId": "bc46e9ac-54c2-4c7b-ac32-ef8a5ec5a821"
   },
   "outputs": [
    {
     "name": "stderr",
     "output_type": "stream",
     "text": [
      "[nltk_data] Downloading package punkt to /Users/alfarizy/nltk_data...\n",
      "[nltk_data]   Package punkt is already up-to-date!\n"
     ]
    },
    {
     "data": {
      "text/plain": [
       "True"
      ]
     },
     "execution_count": 3,
     "metadata": {},
     "output_type": "execute_result"
    }
   ],
   "source": [
    "import nltk\n",
    "\n",
    "nltk.download('punkt')"
   ]
  },
  {
   "cell_type": "code",
   "execution_count": 4,
   "metadata": {
    "colab": {
     "base_uri": "https://localhost:8080/"
    },
    "id": "80yAPcesbFXb",
    "outputId": "2a069815-59a0-4b61-a756-2001ce934234"
   },
   "outputs": [
    {
     "name": "stderr",
     "output_type": "stream",
     "text": [
      "[nltk_data] Downloading package stopwords to\n",
      "[nltk_data]     /Users/alfarizy/nltk_data...\n",
      "[nltk_data]   Package stopwords is already up-to-date!\n"
     ]
    },
    {
     "data": {
      "text/plain": [
       "True"
      ]
     },
     "execution_count": 4,
     "metadata": {},
     "output_type": "execute_result"
    }
   ],
   "source": [
    "nltk.download('stopwords')"
   ]
  },
  {
   "cell_type": "markdown",
   "metadata": {
    "id": "oRuxGMFqq-7K"
   },
   "source": [
    "## Dataset"
   ]
  },
  {
   "cell_type": "markdown",
   "metadata": {
    "id": "1d71iXOPAerp"
   },
   "source": [
    "### Tweet"
   ]
  },
  {
   "cell_type": "code",
   "execution_count": 5,
   "metadata": {
    "id": "Iytluv7drBLG"
   },
   "outputs": [],
   "source": [
    "import pandas as pd\n",
    "\n",
    "\n",
    "data_labeled = pd.read_csv('Indonesian Sentiment Twitter Dataset Labeled.csv', sep=\"\\t\")\n",
    "\n",
    "\n",
    "# data_unlabeled = pd.read_csv('Indonesian Sentiment Tweet Dataset Unlabeled.csv', header=None)\n",
    "# data_unlabeled.rename(columns={0:'Tweet'}, inplace=True)\n",
    "\n",
    "\n",
    "pd.set_option('display.max_colwidth', None)"
   ]
  },
  {
   "cell_type": "markdown",
   "metadata": {
    "id": "RZFeeUsMtx35"
   },
   "source": [
    "Data Labeled"
   ]
  },
  {
   "cell_type": "code",
   "execution_count": 6,
   "metadata": {
    "colab": {
     "base_uri": "https://localhost:8080/"
    },
    "id": "NByy0Z8tueDi",
    "outputId": "69a13ed1-b062-47d8-f938-7ce2f636bd28"
   },
   "outputs": [
    {
     "name": "stdout",
     "output_type": "stream",
     "text": [
      "Sample Data Labeled\n"
     ]
    },
    {
     "data": {
      "text/html": [
       "<div>\n",
       "<style scoped>\n",
       "    .dataframe tbody tr th:only-of-type {\n",
       "        vertical-align: middle;\n",
       "    }\n",
       "\n",
       "    .dataframe tbody tr th {\n",
       "        vertical-align: top;\n",
       "    }\n",
       "\n",
       "    .dataframe thead th {\n",
       "        text-align: right;\n",
       "    }\n",
       "</style>\n",
       "<table border=\"1\" class=\"dataframe\">\n",
       "  <thead>\n",
       "    <tr style=\"text-align: right;\">\n",
       "      <th></th>\n",
       "      <th>sentimen</th>\n",
       "      <th>Tweet</th>\n",
       "    </tr>\n",
       "  </thead>\n",
       "  <tbody>\n",
       "    <tr>\n",
       "      <th>0</th>\n",
       "      <td>-1</td>\n",
       "      <td>lagu bosan apa yang aku save ni huhuhuhuhuhuhuhuhuhuuuuuuuuuuuuuu</td>\n",
       "    </tr>\n",
       "    <tr>\n",
       "      <th>1</th>\n",
       "      <td>-1</td>\n",
       "      <td>kita lanjutkan saja diam ini hingga kau dan aku mengerti tidak semua kebersamaan harus melibatkan hati</td>\n",
       "    </tr>\n",
       "    <tr>\n",
       "      <th>2</th>\n",
       "      <td>1</td>\n",
       "      <td>doa rezeki tak putus inna haa zaa larizquna maa lahu min na fadesungguhnya ini ialah pemberian kami kepada kamu p</td>\n",
       "    </tr>\n",
       "    <tr>\n",
       "      <th>3</th>\n",
       "      <td>1</td>\n",
       "      <td>makasih loh ntar kita bagi hasil aku 99 9 sisanya buat kamu</td>\n",
       "    </tr>\n",
       "    <tr>\n",
       "      <th>4</th>\n",
       "      <td>-1</td>\n",
       "      <td>aku tak faham betul jenis orang malaysia yang tak reti nak sangkut balik hose tu aku geli bodoh nak pegang</td>\n",
       "    </tr>\n",
       "    <tr>\n",
       "      <th>5</th>\n",
       "      <td>0</td>\n",
       "      <td>barusan liat tulisan di belakang truk rela injek kopling demi kamu bisa shopping</td>\n",
       "    </tr>\n",
       "    <tr>\n",
       "      <th>6</th>\n",
       "      <td>-1</td>\n",
       "      <td>cerita dia macam ni mamat ni hari2 aku nampak keluar masuk cimb ceria ja tapi hari ni aku tengok muka dia masam aku p</td>\n",
       "    </tr>\n",
       "    <tr>\n",
       "      <th>7</th>\n",
       "      <td>1</td>\n",
       "      <td>ya aku akan menjadi satu satunya bukan nomor satu tetapi satu satunya</td>\n",
       "    </tr>\n",
       "    <tr>\n",
       "      <th>8</th>\n",
       "      <td>-1</td>\n",
       "      <td>aku aja capek sama diriku sendiri apalagi kamu maaf ya '</td>\n",
       "    </tr>\n",
       "    <tr>\n",
       "      <th>9</th>\n",
       "      <td>-1</td>\n",
       "      <td>aku cuba nak amalkan sikap pergi mampus tapi sayang aku gagal sebab aku jenis mudah kesian dan mudah memaafkan</td>\n",
       "    </tr>\n",
       "  </tbody>\n",
       "</table>\n",
       "</div>"
      ],
      "text/plain": [
       "   sentimen  \\\n",
       "0        -1   \n",
       "1        -1   \n",
       "2         1   \n",
       "3         1   \n",
       "4        -1   \n",
       "5         0   \n",
       "6        -1   \n",
       "7         1   \n",
       "8        -1   \n",
       "9        -1   \n",
       "\n",
       "                                                                                                                    Tweet  \n",
       "0                                                       lagu bosan apa yang aku save ni huhuhuhuhuhuhuhuhuhuuuuuuuuuuuuuu  \n",
       "1                 kita lanjutkan saja diam ini hingga kau dan aku mengerti tidak semua kebersamaan harus melibatkan hati   \n",
       "2      doa rezeki tak putus inna haa zaa larizquna maa lahu min na fadesungguhnya ini ialah pemberian kami kepada kamu p   \n",
       "3                                                             makasih loh ntar kita bagi hasil aku 99 9 sisanya buat kamu  \n",
       "4             aku tak faham betul jenis orang malaysia yang tak reti nak sangkut balik hose tu aku geli bodoh nak pegang   \n",
       "5                                       barusan liat tulisan di belakang truk rela injek kopling demi kamu bisa shopping   \n",
       "6  cerita dia macam ni mamat ni hari2 aku nampak keluar masuk cimb ceria ja tapi hari ni aku tengok muka dia masam aku p   \n",
       "7                                                   ya aku akan menjadi satu satunya bukan nomor satu tetapi satu satunya  \n",
       "8                                                               aku aja capek sama diriku sendiri apalagi kamu maaf ya '   \n",
       "9         aku cuba nak amalkan sikap pergi mampus tapi sayang aku gagal sebab aku jenis mudah kesian dan mudah memaafkan   "
      ]
     },
     "execution_count": 6,
     "metadata": {},
     "output_type": "execute_result"
    }
   ],
   "source": [
    "print(\"Sample Data Labeled\")\n",
    "data_labeled.head(10)"
   ]
  },
  {
   "cell_type": "code",
   "execution_count": 7,
   "metadata": {
    "colab": {
     "base_uri": "https://localhost:8080/"
    },
    "id": "6bvhXRrQs37G",
    "outputId": "9816cc59-fa5e-48d2-c615-f397cb592c34"
   },
   "outputs": [
    {
     "name": "stdout",
     "output_type": "stream",
     "text": [
      "Shape Data Labeled\n"
     ]
    },
    {
     "data": {
      "text/plain": [
       "(10806, 2)"
      ]
     },
     "execution_count": 7,
     "metadata": {},
     "output_type": "execute_result"
    }
   ],
   "source": [
    "print(\"Shape Data Labeled\")\n",
    "data_labeled.shape"
   ]
  },
  {
   "cell_type": "markdown",
   "metadata": {},
   "source": [
    "Visualisasi"
   ]
  },
  {
   "cell_type": "code",
   "execution_count": 8,
   "metadata": {},
   "outputs": [
    {
     "data": {
      "text/plain": [
       "<AxesSubplot:>"
      ]
     },
     "execution_count": 8,
     "metadata": {},
     "output_type": "execute_result"
    },
    {
     "data": {
      "image/png": "[encoded data removed]",
      "text/plain": [
       "<Figure size 432x288 with 1 Axes>"
      ]
     },
     "metadata": {
      "needs_background": "light"
     },
     "output_type": "display_data"
    }
   ],
   "source": [
    "data_labeled['sentimen'].value_counts().plot(kind='bar', color='orange')"
   ]
  },
  {
   "cell_type": "code",
   "execution_count": 9,
   "metadata": {
    "scrolled": true
   },
   "outputs": [
    {
     "data": {
      "text/plain": [
       "<AxesSubplot:ylabel='Frequency'>"
      ]
     },
     "execution_count": 9,
     "metadata": {},
     "output_type": "execute_result"
    },
    {
     "data": {
      "image/png": "[encoded data removed]",
      "text/plain": [
       "<Figure size 432x288 with 1 Axes>"
      ]
     },
     "metadata": {
      "needs_background": "light"
     },
     "output_type": "display_data"
    }
   ],
   "source": [
    "data_labeled['Tweet'].str.len().plot.hist(color = 'yellow', figsize = (6, 4))"
   ]
  },
  {
   "cell_type": "markdown",
   "metadata": {},
   "source": [
    "### Positif"
   ]
  },
  {
   "cell_type": "code",
   "execution_count": 10,
   "metadata": {},
   "outputs": [],
   "source": [
    "data_positif = data_labeled[data_labeled['sentimen'] == 1]"
   ]
  },
  {
   "cell_type": "code",
   "execution_count": 11,
   "metadata": {},
   "outputs": [
    {
     "data": {
      "text/html": [
       "<div>\n",
       "<style scoped>\n",
       "    .dataframe tbody tr th:only-of-type {\n",
       "        vertical-align: middle;\n",
       "    }\n",
       "\n",
       "    .dataframe tbody tr th {\n",
       "        vertical-align: top;\n",
       "    }\n",
       "\n",
       "    .dataframe thead th {\n",
       "        text-align: right;\n",
       "    }\n",
       "</style>\n",
       "<table border=\"1\" class=\"dataframe\">\n",
       "  <thead>\n",
       "    <tr style=\"text-align: right;\">\n",
       "      <th></th>\n",
       "      <th>sentimen</th>\n",
       "      <th>Tweet</th>\n",
       "    </tr>\n",
       "  </thead>\n",
       "  <tbody>\n",
       "    <tr>\n",
       "      <th>2</th>\n",
       "      <td>1</td>\n",
       "      <td>doa rezeki tak putus inna haa zaa larizquna maa lahu min na fadesungguhnya ini ialah pemberian kami kepada kamu p</td>\n",
       "    </tr>\n",
       "    <tr>\n",
       "      <th>3</th>\n",
       "      <td>1</td>\n",
       "      <td>makasih loh ntar kita bagi hasil aku 99 9 sisanya buat kamu</td>\n",
       "    </tr>\n",
       "    <tr>\n",
       "      <th>7</th>\n",
       "      <td>1</td>\n",
       "      <td>ya aku akan menjadi satu satunya bukan nomor satu tetapi satu satunya</td>\n",
       "    </tr>\n",
       "    <tr>\n",
       "      <th>16</th>\n",
       "      <td>1</td>\n",
       "      <td>i dont know why but these zikir sangat membantu aku pon dapat hasil dari orang retweetambil usaha sambil doa insha alla</td>\n",
       "    </tr>\n",
       "    <tr>\n",
       "      <th>18</th>\n",
       "      <td>1</td>\n",
       "      <td>aah kamu aja mas aku lebih suka diayomi</td>\n",
       "    </tr>\n",
       "  </tbody>\n",
       "</table>\n",
       "</div>"
      ],
      "text/plain": [
       "    sentimen  \\\n",
       "2          1   \n",
       "3          1   \n",
       "7          1   \n",
       "16         1   \n",
       "18         1   \n",
       "\n",
       "                                                                                                                       Tweet  \n",
       "2         doa rezeki tak putus inna haa zaa larizquna maa lahu min na fadesungguhnya ini ialah pemberian kami kepada kamu p   \n",
       "3                                                                makasih loh ntar kita bagi hasil aku 99 9 sisanya buat kamu  \n",
       "7                                                      ya aku akan menjadi satu satunya bukan nomor satu tetapi satu satunya  \n",
       "16  i dont know why but these zikir sangat membantu aku pon dapat hasil dari orang retweetambil usaha sambil doa insha alla   \n",
       "18                                                                                  aah kamu aja mas aku lebih suka diayomi   "
      ]
     },
     "execution_count": 11,
     "metadata": {},
     "output_type": "execute_result"
    }
   ],
   "source": [
    "data_positif.head()"
   ]
  },
  {
   "cell_type": "code",
   "execution_count": 12,
   "metadata": {},
   "outputs": [
    {
     "data": {
      "text/plain": [
       "(2592, 2)"
      ]
     },
     "execution_count": 12,
     "metadata": {},
     "output_type": "execute_result"
    }
   ],
   "source": [
    "data_positif.shape"
   ]
  },
  {
   "cell_type": "markdown",
   "metadata": {},
   "source": [
    "### Netral"
   ]
  },
  {
   "cell_type": "code",
   "execution_count": 13,
   "metadata": {},
   "outputs": [],
   "source": [
    "data_netral = data_labeled[data_labeled['sentimen'] == 0]"
   ]
  },
  {
   "cell_type": "code",
   "execution_count": 14,
   "metadata": {},
   "outputs": [
    {
     "data": {
      "text/html": [
       "<div>\n",
       "<style scoped>\n",
       "    .dataframe tbody tr th:only-of-type {\n",
       "        vertical-align: middle;\n",
       "    }\n",
       "\n",
       "    .dataframe tbody tr th {\n",
       "        vertical-align: top;\n",
       "    }\n",
       "\n",
       "    .dataframe thead th {\n",
       "        text-align: right;\n",
       "    }\n",
       "</style>\n",
       "<table border=\"1\" class=\"dataframe\">\n",
       "  <thead>\n",
       "    <tr style=\"text-align: right;\">\n",
       "      <th></th>\n",
       "      <th>sentimen</th>\n",
       "      <th>Tweet</th>\n",
       "    </tr>\n",
       "  </thead>\n",
       "  <tbody>\n",
       "    <tr>\n",
       "      <th>5</th>\n",
       "      <td>0</td>\n",
       "      <td>barusan liat tulisan di belakang truk rela injek kopling demi kamu bisa shopping</td>\n",
       "    </tr>\n",
       "    <tr>\n",
       "      <th>10</th>\n",
       "      <td>0</td>\n",
       "      <td>her itu lho miss kevin sama keven rebutan gimbot ya wis aku beli 2 ae sambil nunjuk the twins yg asik main ipad masin</td>\n",
       "    </tr>\n",
       "    <tr>\n",
       "      <th>11</th>\n",
       "      <td>0</td>\n",
       "      <td>iya rep gatau aku masih kelas 4 sd ehh di block</td>\n",
       "    </tr>\n",
       "    <tr>\n",
       "      <th>12</th>\n",
       "      <td>0</td>\n",
       "      <td>aku mohon tepatilah janjimu penantiancintaeps19</td>\n",
       "    </tr>\n",
       "    <tr>\n",
       "      <th>13</th>\n",
       "      <td>0</td>\n",
       "      <td>bukan beria nk kahwin sbb gatal celah kangkang tp penat bila balik kg org anggap aku ni bujang takde kerja and ser</td>\n",
       "    </tr>\n",
       "  </tbody>\n",
       "</table>\n",
       "</div>"
      ],
      "text/plain": [
       "    sentimen  \\\n",
       "5          0   \n",
       "10         0   \n",
       "11         0   \n",
       "12         0   \n",
       "13         0   \n",
       "\n",
       "                                                                                                                     Tweet  \n",
       "5                                        barusan liat tulisan di belakang truk rela injek kopling demi kamu bisa shopping   \n",
       "10  her itu lho miss kevin sama keven rebutan gimbot ya wis aku beli 2 ae sambil nunjuk the twins yg asik main ipad masin   \n",
       "11                                                                        iya rep gatau aku masih kelas 4 sd ehh di block   \n",
       "12                                                                         aku mohon tepatilah janjimu penantiancintaeps19  \n",
       "13     bukan beria nk kahwin sbb gatal celah kangkang tp penat bila balik kg org anggap aku ni bujang takde kerja and ser   "
      ]
     },
     "execution_count": 14,
     "metadata": {},
     "output_type": "execute_result"
    }
   ],
   "source": [
    "data_netral.head()"
   ]
  },
  {
   "cell_type": "code",
   "execution_count": 15,
   "metadata": {},
   "outputs": [
    {
     "data": {
      "text/plain": [
       "(5327, 2)"
      ]
     },
     "execution_count": 15,
     "metadata": {},
     "output_type": "execute_result"
    }
   ],
   "source": [
    "data_netral.shape"
   ]
  },
  {
   "cell_type": "markdown",
   "metadata": {},
   "source": [
    "### Negatif"
   ]
  },
  {
   "cell_type": "code",
   "execution_count": 16,
   "metadata": {},
   "outputs": [],
   "source": [
    "data_negatif = data_labeled[data_labeled['sentimen'] == -1]"
   ]
  },
  {
   "cell_type": "code",
   "execution_count": 17,
   "metadata": {},
   "outputs": [
    {
     "data": {
      "text/html": [
       "<div>\n",
       "<style scoped>\n",
       "    .dataframe tbody tr th:only-of-type {\n",
       "        vertical-align: middle;\n",
       "    }\n",
       "\n",
       "    .dataframe tbody tr th {\n",
       "        vertical-align: top;\n",
       "    }\n",
       "\n",
       "    .dataframe thead th {\n",
       "        text-align: right;\n",
       "    }\n",
       "</style>\n",
       "<table border=\"1\" class=\"dataframe\">\n",
       "  <thead>\n",
       "    <tr style=\"text-align: right;\">\n",
       "      <th></th>\n",
       "      <th>sentimen</th>\n",
       "      <th>Tweet</th>\n",
       "    </tr>\n",
       "  </thead>\n",
       "  <tbody>\n",
       "    <tr>\n",
       "      <th>0</th>\n",
       "      <td>-1</td>\n",
       "      <td>lagu bosan apa yang aku save ni huhuhuhuhuhuhuhuhuhuuuuuuuuuuuuuu</td>\n",
       "    </tr>\n",
       "    <tr>\n",
       "      <th>1</th>\n",
       "      <td>-1</td>\n",
       "      <td>kita lanjutkan saja diam ini hingga kau dan aku mengerti tidak semua kebersamaan harus melibatkan hati</td>\n",
       "    </tr>\n",
       "    <tr>\n",
       "      <th>4</th>\n",
       "      <td>-1</td>\n",
       "      <td>aku tak faham betul jenis orang malaysia yang tak reti nak sangkut balik hose tu aku geli bodoh nak pegang</td>\n",
       "    </tr>\n",
       "    <tr>\n",
       "      <th>6</th>\n",
       "      <td>-1</td>\n",
       "      <td>cerita dia macam ni mamat ni hari2 aku nampak keluar masuk cimb ceria ja tapi hari ni aku tengok muka dia masam aku p</td>\n",
       "    </tr>\n",
       "    <tr>\n",
       "      <th>8</th>\n",
       "      <td>-1</td>\n",
       "      <td>aku aja capek sama diriku sendiri apalagi kamu maaf ya '</td>\n",
       "    </tr>\n",
       "  </tbody>\n",
       "</table>\n",
       "</div>"
      ],
      "text/plain": [
       "   sentimen  \\\n",
       "0        -1   \n",
       "1        -1   \n",
       "4        -1   \n",
       "6        -1   \n",
       "8        -1   \n",
       "\n",
       "                                                                                                                    Tweet  \n",
       "0                                                       lagu bosan apa yang aku save ni huhuhuhuhuhuhuhuhuhuuuuuuuuuuuuuu  \n",
       "1                 kita lanjutkan saja diam ini hingga kau dan aku mengerti tidak semua kebersamaan harus melibatkan hati   \n",
       "4             aku tak faham betul jenis orang malaysia yang tak reti nak sangkut balik hose tu aku geli bodoh nak pegang   \n",
       "6  cerita dia macam ni mamat ni hari2 aku nampak keluar masuk cimb ceria ja tapi hari ni aku tengok muka dia masam aku p   \n",
       "8                                                               aku aja capek sama diriku sendiri apalagi kamu maaf ya '   "
      ]
     },
     "execution_count": 17,
     "metadata": {},
     "output_type": "execute_result"
    }
   ],
   "source": [
    "data_negatif.head()"
   ]
  },
  {
   "cell_type": "code",
   "execution_count": 18,
   "metadata": {},
   "outputs": [
    {
     "data": {
      "text/plain": [
       "(2887, 2)"
      ]
     },
     "execution_count": 18,
     "metadata": {},
     "output_type": "execute_result"
    }
   ],
   "source": [
    "data_negatif.shape"
   ]
  },
  {
   "cell_type": "markdown",
   "metadata": {
    "id": "WUBycjuuAyV3"
   },
   "source": [
    "### Slang"
   ]
  },
  {
   "cell_type": "code",
   "execution_count": 7,
   "metadata": {
    "id": "PRG_EHF-CglS"
   },
   "outputs": [],
   "source": [
    "data_slang = pd.read_csv('Kamus Slang.csv')\n",
    "\n",
    "pd.set_option('display.max_colwidth', None)"
   ]
  },
  {
   "cell_type": "code",
   "execution_count": 8,
   "metadata": {
    "colab": {
     "base_uri": "https://localhost:8080/"
    },
    "id": "WyAS-8zpDFJZ",
    "outputId": "a00d97e7-bee5-4ccc-e0da-d6768699ee12"
   },
   "outputs": [
    {
     "name": "stdout",
     "output_type": "stream",
     "text": [
      "Sample Data Slang\n"
     ]
    },
    {
     "data": {
      "text/html": [
       "<div>\n",
       "<style scoped>\n",
       "    .dataframe tbody tr th:only-of-type {\n",
       "        vertical-align: middle;\n",
       "    }\n",
       "\n",
       "    .dataframe tbody tr th {\n",
       "        vertical-align: top;\n",
       "    }\n",
       "\n",
       "    .dataframe thead th {\n",
       "        text-align: right;\n",
       "    }\n",
       "</style>\n",
       "<table border=\"1\" class=\"dataframe\">\n",
       "  <thead>\n",
       "    <tr style=\"text-align: right;\">\n",
       "      <th></th>\n",
       "      <th>slang</th>\n",
       "      <th>formal</th>\n",
       "      <th>In-dictionary</th>\n",
       "      <th>context</th>\n",
       "      <th>category1</th>\n",
       "      <th>category2</th>\n",
       "      <th>category3</th>\n",
       "    </tr>\n",
       "  </thead>\n",
       "  <tbody>\n",
       "    <tr>\n",
       "      <th>0</th>\n",
       "      <td>woww</td>\n",
       "      <td>wow</td>\n",
       "      <td>1</td>\n",
       "      <td>wow</td>\n",
       "      <td>elongasi</td>\n",
       "      <td>0</td>\n",
       "      <td>0</td>\n",
       "    </tr>\n",
       "    <tr>\n",
       "      <th>1</th>\n",
       "      <td>aminn</td>\n",
       "      <td>amin</td>\n",
       "      <td>1</td>\n",
       "      <td>Selamat ulang tahun kakak tulus semoga panjang umur kakak,sehat selalu juga,murah rezeki ya kakak dan jangan sombong kalo sukses di karirnya aminn @tulusm</td>\n",
       "      <td>elongasi</td>\n",
       "      <td>0</td>\n",
       "      <td>0</td>\n",
       "    </tr>\n",
       "    <tr>\n",
       "      <th>2</th>\n",
       "      <td>met</td>\n",
       "      <td>selamat</td>\n",
       "      <td>1</td>\n",
       "      <td>Met hari netaas kak!? Wish you all the best @tulusm</td>\n",
       "      <td>abreviasi</td>\n",
       "      <td>0</td>\n",
       "      <td>0</td>\n",
       "    </tr>\n",
       "    <tr>\n",
       "      <th>3</th>\n",
       "      <td>netaas</td>\n",
       "      <td>menetas</td>\n",
       "      <td>1</td>\n",
       "      <td>Met hari netaas kak!? Wish you all the best @tulusm</td>\n",
       "      <td>afiksasi</td>\n",
       "      <td>elongasi</td>\n",
       "      <td>0</td>\n",
       "    </tr>\n",
       "    <tr>\n",
       "      <th>4</th>\n",
       "      <td>keberpa</td>\n",
       "      <td>keberapa</td>\n",
       "      <td>0</td>\n",
       "      <td>Birthday yg keberpa kak?</td>\n",
       "      <td>abreviasi</td>\n",
       "      <td>0</td>\n",
       "      <td>0</td>\n",
       "    </tr>\n",
       "  </tbody>\n",
       "</table>\n",
       "</div>"
      ],
      "text/plain": [
       "     slang    formal  In-dictionary  \\\n",
       "0     woww       wow              1   \n",
       "1    aminn      amin              1   \n",
       "2      met   selamat              1   \n",
       "3   netaas   menetas              1   \n",
       "4  keberpa  keberapa              0   \n",
       "\n",
       "                                                                                                                                                      context  \\\n",
       "0                                                                                                                                                         wow   \n",
       "1  Selamat ulang tahun kakak tulus semoga panjang umur kakak,sehat selalu juga,murah rezeki ya kakak dan jangan sombong kalo sukses di karirnya aminn @tulusm   \n",
       "2                                                                                                         Met hari netaas kak!? Wish you all the best @tulusm   \n",
       "3                                                                                                         Met hari netaas kak!? Wish you all the best @tulusm   \n",
       "4                                                                                                                                    Birthday yg keberpa kak?   \n",
       "\n",
       "   category1 category2 category3  \n",
       "0   elongasi         0         0  \n",
       "1   elongasi         0         0  \n",
       "2  abreviasi         0         0  \n",
       "3   afiksasi  elongasi         0  \n",
       "4  abreviasi         0         0  "
      ]
     },
     "execution_count": 8,
     "metadata": {},
     "output_type": "execute_result"
    }
   ],
   "source": [
    "print(\"Sample Data Slang\")\n",
    "data_slang.head()"
   ]
  },
  {
   "cell_type": "code",
   "execution_count": 9,
   "metadata": {
    "colab": {
     "base_uri": "https://localhost:8080/"
    },
    "id": "1-dFubdgDNXt",
    "outputId": "95a3d09c-8d11-4c1a-8e90-d63d85ea858e"
   },
   "outputs": [
    {
     "name": "stdout",
     "output_type": "stream",
     "text": [
      "Sample Data Slang\n"
     ]
    },
    {
     "data": {
      "text/plain": [
       "(15006, 7)"
      ]
     },
     "execution_count": 9,
     "metadata": {},
     "output_type": "execute_result"
    }
   ],
   "source": [
    "print(\"Sample Data Slang\")\n",
    "data_slang.shape"
   ]
  },
  {
   "cell_type": "markdown",
   "metadata": {
    "id": "fQhzYxCbLTrE"
   },
   "source": [
    "## Preprocessing Slang"
   ]
  },
  {
   "cell_type": "markdown",
   "metadata": {
    "id": "0DRh7RcALaQy"
   },
   "source": [
    "### Prepare Data"
   ]
  },
  {
   "cell_type": "markdown",
   "metadata": {
    "id": "pEkkzk_hLjJU"
   },
   "source": [
    "Merubah masing-masing kolom slang dan formal menjadi array"
   ]
  },
  {
   "cell_type": "code",
   "execution_count": 10,
   "metadata": {
    "colab": {
     "base_uri": "https://localhost:8080/"
    },
    "id": "arB983GMLt3H",
    "outputId": "3649f5fe-b94e-4d75-c0c2-9176582d80cb"
   },
   "outputs": [
    {
     "name": "stdout",
     "output_type": "stream",
     "text": [
      "jumlah data pada dataframe :  15006\n",
      "\n",
      "Sample Data Slang :  ['woww', 'aminn', 'met', 'netaas', 'keberpa']\n",
      "Sample Data Formal :  ['wow', 'amin', 'selamat', 'menetas', 'keberapa']\n",
      "\n",
      "jumlah data slang pada array :  15006\n",
      "jumlah data formal pada array :  15006\n"
     ]
    }
   ],
   "source": [
    "from pandas import DataFrame\n",
    "\n",
    "\n",
    "dataclean_slang = []\n",
    "dataclean_formal = []\n",
    "i = 0\n",
    "\n",
    "\n",
    "jml_data = data_slang.shape\n",
    "jml_data = jml_data[0]\n",
    "print(\"jumlah data pada dataframe : \",jml_data)\n",
    "\n",
    "\n",
    "while(i<jml_data):\n",
    "  dataclean_slang.append(data_slang['slang'].loc[i])\n",
    "  dataclean_formal.append(data_slang['formal'].loc[i])\n",
    "  i = i+1\n",
    "\n",
    "print(\"\")\n",
    "print(\"Sample Data Slang : \",dataclean_slang[:5])\n",
    "print(\"Sample Data Formal : \",dataclean_formal[:5])\n",
    "\n",
    "print(\"\")\n",
    "print(\"jumlah data slang pada array : \",len(dataclean_slang))\n",
    "print(\"jumlah data formal pada array : \",len(dataclean_formal))"
   ]
  },
  {
   "cell_type": "markdown",
   "metadata": {
    "id": "IHCAaVcVWO-Z"
   },
   "source": [
    "## Preprocessing "
   ]
  },
  {
   "cell_type": "markdown",
   "metadata": {
    "id": "QWbQKyaGqfWh"
   },
   "source": [
    "### Prepare Data"
   ]
  },
  {
   "cell_type": "markdown",
   "metadata": {
    "id": "zgS6Q8QauA7i"
   },
   "source": [
    "Memindah data pada dataframe ke array"
   ]
  },
  {
   "cell_type": "code",
   "execution_count": 11,
   "metadata": {
    "colab": {
     "base_uri": "https://localhost:8080/"
    },
    "id": "psVD0CG5qmWZ",
    "outputId": "d3f0defa-21e5-4a00-b32e-faa8e22f3396"
   },
   "outputs": [
    {
     "name": "stdout",
     "output_type": "stream",
     "text": [
      "jumlah data pada dataframe :  10806\n",
      "jumlah data pada array :  10806\n"
     ]
    }
   ],
   "source": [
    "from pandas import DataFrame\n",
    "\n",
    "\n",
    "dataraw_labeled = []\n",
    "dataclean_labeled = []\n",
    "i = 0\n",
    "\n",
    "\n",
    "jml_data = data_labeled.shape\n",
    "jml_data = jml_data[0]\n",
    "print(\"jumlah data pada dataframe : \",jml_data)\n",
    "\n",
    "\n",
    "while(i<jml_data):\n",
    "  dataraw_labeled.append(data_labeled['Tweet'].loc[i])\n",
    "  i = i+1\n",
    "\n",
    "\n",
    "print(\"jumlah data pada array : \",len(dataraw_labeled))"
   ]
  },
  {
   "cell_type": "markdown",
   "metadata": {
    "id": "OhoF5rIyWntw"
   },
   "source": [
    "### Case Folding"
   ]
  },
  {
   "cell_type": "code",
   "execution_count": 12,
   "metadata": {
    "id": "UdxV7TZ21_JH"
   },
   "outputs": [],
   "source": [
    "import re\n",
    "import string\n",
    "\n",
    "\n",
    "dataclean_labeledeled = []\n",
    "tmp = []\n",
    "\n",
    "\n",
    "for d in dataraw_labeled:\n",
    "#CASE FOLDING\n",
    "  # Remove Unicode\n",
    "  document_test = re.sub(r'[^\\x00-\\x7F]+', ' ', d)\n",
    "  # Remove Mentions\n",
    "  document_test = re.sub(r'@\\w+', '', document_test)\n",
    "  # Remove punctuations\n",
    "  document_test = re.sub(r'[%s]' % re.escape(string.punctuation), ' ', document_test)\n",
    "  # Lowercase the numbers\n",
    "  document_test = re.sub(r'[0-9]', '', document_test)\n",
    "  # Remove the doubled space\n",
    "  document_test = re.sub(r'\\s{2,}', ' ', document_test)\n",
    "\n",
    "  # Lowercase the document\n",
    "  document_test = document_test.lower()\n",
    "  tmp = document_test\n",
    "  dataclean_labeled.append(tmp)"
   ]
  },
  {
   "cell_type": "code",
   "execution_count": 13,
   "metadata": {
    "colab": {
     "base_uri": "https://localhost:8080/"
    },
    "id": "H8nKsTTU2hG1",
    "outputId": "4ee7043b-83a3-449b-aa9c-d91a3ba5211d"
   },
   "outputs": [
    {
     "name": "stdout",
     "output_type": "stream",
     "text": [
      "Jumlah data setelah Case Folding :  10806\n",
      "lagu bosan apa yang aku save ni huhuhuhuhuhuhuhuhuhuuuuuuuuuuuuuu\n"
     ]
    }
   ],
   "source": [
    "print(\"Jumlah data setelah Case Folding : \",len(dataclean_labeled))\n",
    "print(dataclean_labeled[0])"
   ]
  },
  {
   "cell_type": "markdown",
   "metadata": {
    "id": "wwajyjNyWuRM"
   },
   "source": [
    "### Tokenizing"
   ]
  },
  {
   "cell_type": "code",
   "execution_count": 14,
   "metadata": {
    "colab": {
     "base_uri": "https://localhost:8080/"
    },
    "id": "GoVdXUIEXR2-",
    "outputId": "73aaeda8-8302-4d0f-b4e8-af020990247a"
   },
   "outputs": [
    {
     "name": "stdout",
     "output_type": "stream",
     "text": [
      "Banyaknya data setelah tokenizing =  10806\n"
     ]
    }
   ],
   "source": [
    "datatoken = []\n",
    "tmp = []\n",
    "\n",
    "\n",
    "for i in range(len(dataclean_labeled)):\n",
    "  tmp = nltk.tokenize.word_tokenize(dataclean_labeled[i])\n",
    "  datatoken.append(tmp)\n",
    "\n",
    "\n",
    "print(\"Banyaknya data setelah tokenizing = \",len(datatoken))"
   ]
  },
  {
   "cell_type": "markdown",
   "metadata": {
    "id": "kEy4JWx4Pjj4"
   },
   "source": [
    "### Slang Removal"
   ]
  },
  {
   "cell_type": "markdown",
   "metadata": {
    "id": "lNPWHsBubSTe"
   },
   "source": [
    "Pada tahap ini dilakukan pembersihan kata slang dengan cara dihapus, data yang digunakan adalah sample dengan jumlah 5000 data untuk mempercepat proses preprocessing."
   ]
  },
  {
   "cell_type": "code",
   "execution_count": 15,
   "metadata": {
    "colab": {
     "base_uri": "https://localhost:8080/"
    },
    "id": "C8JoIhmKPmUy",
    "outputId": "dd95960a-2444-42aa-f9cd-e6fd9fcad4f6"
   },
   "outputs": [
    {
     "name": "stdout",
     "output_type": "stream",
     "text": [
      "Banyaknya data setelah slang removal =  10806\n"
     ]
    }
   ],
   "source": [
    "dataslang = []\n",
    "tmp = []\n",
    "\n",
    "# sample_dataslang = datatoken[:5000]\n",
    "# z = 0\n",
    "\n",
    "for i in datatoken:\n",
    "  # z = z+1\n",
    "  for j in i:\n",
    "    if j not in dataclean_slang:\n",
    "      tmp.append(j)\n",
    "  dataslang.append(tmp)\n",
    "  tmp = []\n",
    "  # if(z%1000==0):\n",
    "  #   print(z)\n",
    "  \n",
    "\n",
    "\n",
    "print(\"Banyaknya data setelah slang removal = \",len(dataslang))"
   ]
  },
  {
   "cell_type": "markdown",
   "metadata": {
    "id": "K_mS5dEyaDDz"
   },
   "source": [
    "### Filtering (Stopword Removal)"
   ]
  },
  {
   "cell_type": "code",
   "execution_count": 16,
   "metadata": {
    "colab": {
     "base_uri": "https://localhost:8080/"
    },
    "id": "xIh5L1ixb46I",
    "outputId": "5aa49701-1dca-43c6-ce42-bbb2899be699"
   },
   "outputs": [],
   "source": [
    "from Sastrawi.StopWordRemover.StopWordRemoverFactory import StopWordRemoverFactory\n",
    "factory = StopWordRemoverFactory()\n",
    "stopwords = factory.get_stop_words()\n",
    "# print(stopwords)"
   ]
  },
  {
   "cell_type": "code",
   "execution_count": 17,
   "metadata": {
    "colab": {
     "base_uri": "https://localhost:8080/"
    },
    "id": "2QOuxl5vaUZu",
    "outputId": "45460a72-3b97-4341-acc5-f20efe9df22d"
   },
   "outputs": [
    {
     "name": "stdout",
     "output_type": "stream",
     "text": [
      "Banyaknya data setelah filtering =  10806\n"
     ]
    }
   ],
   "source": [
    "from nltk.tokenize import sent_tokenize, word_tokenize\n",
    "from nltk.corpus import stopwords\n",
    "\n",
    "\n",
    "\n",
    "listStopword =  set(stopwords.words('indonesian'))\n",
    "tmp = []\n",
    "datafilter = []\n",
    "\n",
    "\n",
    "for i in dataslang:\n",
    "  for j in i:\n",
    "    if j not in listStopword:\n",
    "      tmp.append(j)\n",
    "  datafilter.append(tmp)\n",
    "  tmp = []\n",
    "  \n",
    "\n",
    "\n",
    "print(\"Banyaknya data setelah filtering = \",len(datafilter))"
   ]
  },
  {
   "cell_type": "code",
   "execution_count": 18,
   "metadata": {
    "colab": {
     "base_uri": "https://localhost:8080/"
    },
    "id": "UoO5BSWKnu2r",
    "outputId": "986df6ab-ef5d-4965-9d2f-ef95f52d746f"
   },
   "outputs": [
    {
     "name": "stdout",
     "output_type": "stream",
     "text": [
      "Banyaknya data setelah filtering =  10806\n"
     ]
    }
   ],
   "source": [
    "adv_stopwords = ['yang', 'untuk', 'pada', 'ke', 'para', 'namun', 'menurut', 'antara', 'dia', 'dua', 'ia', 'seperti', 'jika', 'jika', 'sehingga', 'kembali', 'dan', \n",
    "                 'tidak', 'ini', 'karena', 'kepada', 'oleh', 'saat', 'harus', 'sementara', 'setelah', 'belum', 'kami', 'sekitar', 'bagi', 'serta', 'di', 'dari', \n",
    "                 'telah', 'sebagai', 'masih', 'hal', 'ketika', 'adalah', 'itu', 'dalam', 'bisa', 'bahwa', 'atau', 'hanya', 'kita', 'dengan', 'akan', 'juga', 'ada', \n",
    "                 'mereka', 'sudah', 'saya', 'terhadap', 'secara', 'agar', 'lain', 'anda', 'begitu', 'mengapa', 'kenapa', 'yaitu', 'yakni', 'daripada', 'itulah', \n",
    "                 'lagi', 'maka', 'tentang', 'demi', 'dimana', 'kemana', 'pula', 'sambil', 'sebelum', 'sesudah', 'supaya', 'guna', 'kah', 'pun', 'sampai', 'sedangkan', \n",
    "                 'selagi', 'sementara', 'tetapi', 'apakah', 'kecuali', 'sebab', 'selain', 'seolah', 'seraya', 'seterusnya', 'tanpa', 'agak', 'boleh', 'dapat', 'dsb', \n",
    "                 'dst', 'dll', 'dahulu', 'dulunya', 'anu', 'demikian', 'tapi', 'ingin', 'juga', 'nggak', 'mari', 'nanti', 'melainkan', 'oh', 'ok', 'seharusnya', \n",
    "                 'sebetulnya', 'setiap', 'setidaknya', 'sesuatu', 'pasti', 'saja', 'toh', 'ya', 'walau', 'tolong', 'tentu', 'amat', 'apalagi', 'bagaimanapun',\n",
    "                 'je', 'nk', 'eh', 'kat', 'pas', 'kau', 'ya', 'nak', 'kalo', 'ah', 'nya', 'ku', 'weh']\n",
    "\n",
    "tmp = []\n",
    "datafilter2 = []\n",
    "\n",
    "\n",
    "for i in datafilter:\n",
    "  for j in i:\n",
    "    if j not in adv_stopwords:\n",
    "      tmp.append(j)\n",
    "  datafilter2.append(tmp)\n",
    "  tmp = []\n",
    "  \n",
    "\n",
    "\n",
    "print(\"Banyaknya data setelah filtering = \",len(datafilter2))"
   ]
  },
  {
   "cell_type": "markdown",
   "metadata": {
    "id": "esgQCOgidDK_"
   },
   "source": [
    "### Stemming"
   ]
  },
  {
   "cell_type": "markdown",
   "metadata": {
    "id": "UPti76FjMfDW"
   },
   "source": [
    "Proses stemming ini perlu untuk dilakukan dan membutuhkan proses yang paling lama"
   ]
  },
  {
   "cell_type": "code",
   "execution_count": 19,
   "metadata": {
    "colab": {
     "base_uri": "https://localhost:8080/"
    },
    "id": "GhF1GSJrMd2s",
    "outputId": "39767b88-8c24-4d00-fc20-7675342eb9a6"
   },
   "outputs": [
    {
     "name": "stdout",
     "output_type": "stream",
     "text": [
      "Banyaknya data setelah filtering =  10806\n"
     ]
    }
   ],
   "source": [
    "from Sastrawi.Stemmer.StemmerFactory import StemmerFactory\n",
    "factory = StemmerFactory()\n",
    "stemmer = factory.create_stemmer()\n",
    "z=0\n",
    "\n",
    "# coba = [['ini','data','percobaan'],['bagaimana','hasilnya'],['tidak','tahu','sepertinya','benar'],['semoga','ini','sudah','benar'],['aku','harapkan','juga','begitu']]\n",
    "datastem = []\n",
    "tmp = []\n",
    "\n",
    "\n",
    "for i in datafilter2:\n",
    "  for j in i:\n",
    "    tmp.append(stemmer.stem(j))\n",
    "  datastem.append(tmp)\n",
    "  # z = z + 1\n",
    "  # if(z%10==0):\n",
    "  #   print(z)\n",
    "  tmp = []\n",
    "\n",
    "\n",
    "print(\"Banyaknya data setelah filtering = \",len(datastem))"
   ]
  },
  {
   "cell_type": "markdown",
   "metadata": {
    "id": "I0t7e5kOoq3T"
   },
   "source": [
    "### Hasil Akhir Preprocessing"
   ]
  },
  {
   "cell_type": "code",
   "execution_count": 20,
   "metadata": {
    "colab": {
     "base_uri": "https://localhost:8080/"
    },
    "id": "veNFP3gylodY",
    "outputId": "137d16c4-2172-4e7f-ebb9-64548e8931b4"
   },
   "outputs": [
    {
     "name": "stdout",
     "output_type": "stream",
     "text": [
      "Banyaknya data setelah filtering =  10806\n"
     ]
    }
   ],
   "source": [
    "def convert_list_to_string(nama_list, seperator=' '):\n",
    "    \"\"\" Convert list to string, by joining all item in list with given separator.\n",
    "        Returns the concatenated string \"\"\"\n",
    "    return seperator.join(nama_list)\n",
    "\n",
    "\n",
    "finaldata_labeled = []\n",
    "\n",
    "\n",
    "for i in datastem:\n",
    "  finaldata_labeled.append(convert_list_to_string(i))\n",
    "\n",
    "print(\"Banyaknya data setelah filtering = \",len(finaldata_labeled))"
   ]
  },
  {
   "cell_type": "code",
   "execution_count": 21,
   "metadata": {
    "colab": {
     "base_uri": "https://localhost:8080/"
    },
    "id": "fyOYcJO_mM-R",
    "outputId": "4d0be780-e01f-4822-9d31-0d5be250cb39",
    "scrolled": true
   },
   "outputs": [
    {
     "name": "stdout",
     "output_type": "stream",
     "text": [
      "lanjut diam erti sama libat hati\n",
      "10806\n"
     ]
    }
   ],
   "source": [
    "print(finaldata_labeled[1])\n",
    "print(len(finaldata_labeled))"
   ]
  },
  {
   "cell_type": "markdown",
   "metadata": {},
   "source": [
    "### Save Clean Data to Excel"
   ]
  },
  {
   "cell_type": "code",
   "execution_count": 22,
   "metadata": {},
   "outputs": [],
   "source": [
    "df_final_labeled = pd.DataFrame(finaldata_labeled, columns=['Tweet'])"
   ]
  },
  {
   "cell_type": "code",
   "execution_count": 23,
   "metadata": {},
   "outputs": [
    {
     "data": {
      "text/html": [
       "<div>\n",
       "<style scoped>\n",
       "    .dataframe tbody tr th:only-of-type {\n",
       "        vertical-align: middle;\n",
       "    }\n",
       "\n",
       "    .dataframe tbody tr th {\n",
       "        vertical-align: top;\n",
       "    }\n",
       "\n",
       "    .dataframe thead th {\n",
       "        text-align: right;\n",
       "    }\n",
       "</style>\n",
       "<table border=\"1\" class=\"dataframe\">\n",
       "  <thead>\n",
       "    <tr style=\"text-align: right;\">\n",
       "      <th></th>\n",
       "      <th>Tweet</th>\n",
       "    </tr>\n",
       "  </thead>\n",
       "  <tbody>\n",
       "    <tr>\n",
       "      <th>0</th>\n",
       "      <td>lagu bosan save huhuhuhuhuhuhuhuhuhuuuuuuuuuuuuuu</td>\n",
       "    </tr>\n",
       "    <tr>\n",
       "      <th>1</th>\n",
       "      <td>lanjut diam erti sama libat hati</td>\n",
       "    </tr>\n",
       "    <tr>\n",
       "      <th>2</th>\n",
       "      <td>doa rezeki putus inna haa zaa larizquna maa lahu min fadesungguhnya beri p</td>\n",
       "    </tr>\n",
       "    <tr>\n",
       "      <th>3</th>\n",
       "      <td>loh hasil sisa</td>\n",
       "    </tr>\n",
       "    <tr>\n",
       "      <th>4</th>\n",
       "      <td>faham jenis orang malaysia ret sangkut hose geli bodoh pegang</td>\n",
       "    </tr>\n",
       "  </tbody>\n",
       "</table>\n",
       "</div>"
      ],
      "text/plain": [
       "                                                                        Tweet\n",
       "0                           lagu bosan save huhuhuhuhuhuhuhuhuhuuuuuuuuuuuuuu\n",
       "1                                            lanjut diam erti sama libat hati\n",
       "2  doa rezeki putus inna haa zaa larizquna maa lahu min fadesungguhnya beri p\n",
       "3                                                              loh hasil sisa\n",
       "4               faham jenis orang malaysia ret sangkut hose geli bodoh pegang"
      ]
     },
     "execution_count": 23,
     "metadata": {},
     "output_type": "execute_result"
    }
   ],
   "source": [
    "df_final_labeled.head()"
   ]
  },
  {
   "cell_type": "code",
   "execution_count": 120,
   "metadata": {},
   "outputs": [],
   "source": [
    "df_final_labeled.to_excel('Clean_labeled.xlsx')"
   ]
  },
  {
   "cell_type": "markdown",
   "metadata": {
    "id": "XV2ltdEqbfz_"
   },
   "source": [
    "## Word Cloud"
   ]
  },
  {
   "cell_type": "code",
   "execution_count": 92,
   "metadata": {},
   "outputs": [
    {
     "data": {
      "text/plain": [
       "Text(0.5, 1.0, 'Most Frequently Occuring Words - Top 30')"
      ]
     },
     "execution_count": 92,
     "metadata": {},
     "output_type": "execute_result"
    },
    {
     "data": {
      "image/png": "[encoded data removed]",
      "text/plain": [
       "<Figure size 1080x504 with 1 Axes>"
      ]
     },
     "metadata": {
      "needs_background": "light"
     },
     "output_type": "display_data"
    }
   ],
   "source": [
    "from sklearn.feature_extraction.text import CountVectorizer\n",
    "from matplotlib.colors import LinearSegmentedColormap\n",
    "\n",
    "cv = CountVectorizer()\n",
    "words = cv.fit_transform(df_final_labeled.Tweet)\n",
    "\n",
    "sum_words = words.sum(axis=0)\n",
    "\n",
    "words_freq = [(word, sum_words[0, i]) for word, i in cv.vocabulary_.items()]\n",
    "words_freq = sorted(words_freq, key = lambda x: x[1], reverse = True)\n",
    "\n",
    "frequency = pd.DataFrame(words_freq, columns=['word', 'freq'])\n",
    "\n",
    "frequency.head(10).plot(x='word', y='freq', kind='bar', figsize=(15, 7), cmap = 'magma')\n",
    "plt.title(\"Most Frequently Occuring Words - Top 30\")"
   ]
  },
  {
   "cell_type": "code",
   "execution_count": 37,
   "metadata": {
    "id": "hm-0Rm6nbf0A"
   },
   "outputs": [],
   "source": [
    "import matplotlib.pyplot as plt\n",
    "from wordcloud import WordCloud"
   ]
  },
  {
   "cell_type": "code",
   "execution_count": 38,
   "metadata": {},
   "outputs": [],
   "source": [
    "result_wordcloud = WordCloud(background_color=\"white\", width=3000, height=2000, max_words=1000).generate(' '.join(finaldata_labeled))"
   ]
  },
  {
   "cell_type": "code",
   "execution_count": 39,
   "metadata": {
    "colab": {
     "base_uri": "https://localhost:8080/"
    },
    "id": "qvP8bz0Tbf0B",
    "outputId": "caddb58c-b621-461d-9612-b0fffd6c6f93"
   },
   "outputs": [
    {
     "data": {
      "image/png": "[encoded data removed]",
      "text/plain": [
       "<Figure size 432x288 with 1 Axes>"
      ]
     },
     "metadata": {
      "needs_background": "light"
     },
     "output_type": "display_data"
    }
   ],
   "source": [
    "plt.imshow(result_wordcloud)\n",
    "plt.axis(\"off\")\n",
    "# plt.savefig(\"Wordcloud_10rb Data.png\")\n",
    "plt.show()"
   ]
  },
  {
   "cell_type": "code",
   "execution_count": 40,
   "metadata": {
    "scrolled": true
   },
   "outputs": [
    {
     "data": {
      "text/plain": [
       "<wordcloud.wordcloud.WordCloud at 0x7f97a0b9efa0>"
      ]
     },
     "execution_count": 40,
     "metadata": {},
     "output_type": "execute_result"
    }
   ],
   "source": [
    "# plt.savefig('before.png')\n",
    "\n",
    "result_wordcloud.to_file('Wordcloud_Labeled.png')"
   ]
  },
  {
   "cell_type": "markdown",
   "metadata": {
    "id": "XV2ltdEqbfz_"
   },
   "source": [
    "## Sentiment Analysis"
   ]
  },
  {
   "cell_type": "markdown",
   "metadata": {
    "id": "XV2ltdEqbfz_"
   },
   "source": [
    "### Prepare Data"
   ]
  },
  {
   "cell_type": "code",
   "execution_count": 128,
   "metadata": {
    "scrolled": true
   },
   "outputs": [
    {
     "data": {
      "text/html": [
       "<div>\n",
       "<style scoped>\n",
       "    .dataframe tbody tr th:only-of-type {\n",
       "        vertical-align: middle;\n",
       "    }\n",
       "\n",
       "    .dataframe tbody tr th {\n",
       "        vertical-align: top;\n",
       "    }\n",
       "\n",
       "    .dataframe thead th {\n",
       "        text-align: right;\n",
       "    }\n",
       "</style>\n",
       "<table border=\"1\" class=\"dataframe\">\n",
       "  <thead>\n",
       "    <tr style=\"text-align: right;\">\n",
       "      <th></th>\n",
       "      <th>sentimen</th>\n",
       "      <th>Tweet</th>\n",
       "    </tr>\n",
       "  </thead>\n",
       "  <tbody>\n",
       "    <tr>\n",
       "      <th>0</th>\n",
       "      <td>-1</td>\n",
       "      <td>lagu bosan apa yang aku save ni huhuhuhuhuhuhuhuhuhuuuuuuuuuuuuuu</td>\n",
       "    </tr>\n",
       "    <tr>\n",
       "      <th>1</th>\n",
       "      <td>-1</td>\n",
       "      <td>kita lanjutkan saja diam ini hingga kau dan aku mengerti tidak semua kebersamaan harus melibatkan hati</td>\n",
       "    </tr>\n",
       "    <tr>\n",
       "      <th>2</th>\n",
       "      <td>1</td>\n",
       "      <td>doa rezeki tak putus inna haa zaa larizquna maa lahu min na fadesungguhnya ini ialah pemberian kami kepada kamu p</td>\n",
       "    </tr>\n",
       "  </tbody>\n",
       "</table>\n",
       "</div>"
      ],
      "text/plain": [
       "   sentimen  \\\n",
       "0        -1   \n",
       "1        -1   \n",
       "2         1   \n",
       "\n",
       "                                                                                                                Tweet  \n",
       "0                                                   lagu bosan apa yang aku save ni huhuhuhuhuhuhuhuhuhuuuuuuuuuuuuuu  \n",
       "1             kita lanjutkan saja diam ini hingga kau dan aku mengerti tidak semua kebersamaan harus melibatkan hati   \n",
       "2  doa rezeki tak putus inna haa zaa larizquna maa lahu min na fadesungguhnya ini ialah pemberian kami kepada kamu p   "
      ]
     },
     "execution_count": 128,
     "metadata": {},
     "output_type": "execute_result"
    }
   ],
   "source": [
    "data_labeled.head(3)"
   ]
  },
  {
   "cell_type": "code",
   "execution_count": 129,
   "metadata": {},
   "outputs": [
    {
     "data": {
      "text/html": [
       "<div>\n",
       "<style scoped>\n",
       "    .dataframe tbody tr th:only-of-type {\n",
       "        vertical-align: middle;\n",
       "    }\n",
       "\n",
       "    .dataframe tbody tr th {\n",
       "        vertical-align: top;\n",
       "    }\n",
       "\n",
       "    .dataframe thead th {\n",
       "        text-align: right;\n",
       "    }\n",
       "</style>\n",
       "<table border=\"1\" class=\"dataframe\">\n",
       "  <thead>\n",
       "    <tr style=\"text-align: right;\">\n",
       "      <th></th>\n",
       "      <th>Tweet</th>\n",
       "      <th>sentimen</th>\n",
       "    </tr>\n",
       "  </thead>\n",
       "  <tbody>\n",
       "    <tr>\n",
       "      <th>0</th>\n",
       "      <td>lagu bosan save huhuhuhuhuhuhuhuhuhuuuuuuuuuuuuuu</td>\n",
       "      <td>-1</td>\n",
       "    </tr>\n",
       "    <tr>\n",
       "      <th>1</th>\n",
       "      <td>lanjut diam erti sama libat hati</td>\n",
       "      <td>-1</td>\n",
       "    </tr>\n",
       "    <tr>\n",
       "      <th>2</th>\n",
       "      <td>doa rezeki putus inna haa zaa larizquna maa lahu min fadesungguhnya beri p</td>\n",
       "      <td>1</td>\n",
       "    </tr>\n",
       "  </tbody>\n",
       "</table>\n",
       "</div>"
      ],
      "text/plain": [
       "                                                                        Tweet  \\\n",
       "0                           lagu bosan save huhuhuhuhuhuhuhuhuhuuuuuuuuuuuuuu   \n",
       "1                                            lanjut diam erti sama libat hati   \n",
       "2  doa rezeki putus inna haa zaa larizquna maa lahu min fadesungguhnya beri p   \n",
       "\n",
       "   sentimen  \n",
       "0        -1  \n",
       "1        -1  \n",
       "2         1  "
      ]
     },
     "execution_count": 129,
     "metadata": {},
     "output_type": "execute_result"
    }
   ],
   "source": [
    "df_final_labeled.head(3)"
   ]
  },
  {
   "cell_type": "code",
   "execution_count": 130,
   "metadata": {},
   "outputs": [
    {
     "data": {
      "text/html": [
       "<div>\n",
       "<style scoped>\n",
       "    .dataframe tbody tr th:only-of-type {\n",
       "        vertical-align: middle;\n",
       "    }\n",
       "\n",
       "    .dataframe tbody tr th {\n",
       "        vertical-align: top;\n",
       "    }\n",
       "\n",
       "    .dataframe thead th {\n",
       "        text-align: right;\n",
       "    }\n",
       "</style>\n",
       "<table border=\"1\" class=\"dataframe\">\n",
       "  <thead>\n",
       "    <tr style=\"text-align: right;\">\n",
       "      <th></th>\n",
       "      <th>sentimen</th>\n",
       "      <th>Tweet</th>\n",
       "    </tr>\n",
       "  </thead>\n",
       "  <tbody>\n",
       "    <tr>\n",
       "      <th>10803</th>\n",
       "      <td>1</td>\n",
       "      <td>Apapun yg telah kamu lakukan apapun kesalahanmu kamu akan selalu menemukan kata maaf dalam hati seorang Ibu BOTKECE</td>\n",
       "    </tr>\n",
       "    <tr>\n",
       "      <th>10804</th>\n",
       "      <td>1</td>\n",
       "      <td>3 cara untuk ingat semula apa yang kita dah hafal</td>\n",
       "    </tr>\n",
       "    <tr>\n",
       "      <th>10805</th>\n",
       "      <td>1</td>\n",
       "      <td>Semoga Allah permudahkan urusan aku amp orang sekeliling aku yang tengah stress tak kisah pasal assignment ke kerja lain ke</td>\n",
       "    </tr>\n",
       "  </tbody>\n",
       "</table>\n",
       "</div>"
      ],
      "text/plain": [
       "       sentimen  \\\n",
       "10803         1   \n",
       "10804         1   \n",
       "10805         1   \n",
       "\n",
       "                                                                                                                              Tweet  \n",
       "10803           Apapun yg telah kamu lakukan apapun kesalahanmu kamu akan selalu menemukan kata maaf dalam hati seorang Ibu BOTKECE  \n",
       "10804                                                                            3 cara untuk ingat semula apa yang kita dah hafal   \n",
       "10805  Semoga Allah permudahkan urusan aku amp orang sekeliling aku yang tengah stress tak kisah pasal assignment ke kerja lain ke   "
      ]
     },
     "execution_count": 130,
     "metadata": {},
     "output_type": "execute_result"
    }
   ],
   "source": [
    "data_labeled.tail(3)"
   ]
  },
  {
   "cell_type": "code",
   "execution_count": 131,
   "metadata": {},
   "outputs": [
    {
     "data": {
      "text/html": [
       "<div>\n",
       "<style scoped>\n",
       "    .dataframe tbody tr th:only-of-type {\n",
       "        vertical-align: middle;\n",
       "    }\n",
       "\n",
       "    .dataframe tbody tr th {\n",
       "        vertical-align: top;\n",
       "    }\n",
       "\n",
       "    .dataframe thead th {\n",
       "        text-align: right;\n",
       "    }\n",
       "</style>\n",
       "<table border=\"1\" class=\"dataframe\">\n",
       "  <thead>\n",
       "    <tr style=\"text-align: right;\">\n",
       "      <th></th>\n",
       "      <th>Tweet</th>\n",
       "      <th>sentimen</th>\n",
       "    </tr>\n",
       "  </thead>\n",
       "  <tbody>\n",
       "    <tr>\n",
       "      <th>10803</th>\n",
       "      <td>apa laku apa salah temu maaf hati botkece</td>\n",
       "      <td>1</td>\n",
       "    </tr>\n",
       "    <tr>\n",
       "      <th>10804</th>\n",
       "      <td>hafal</td>\n",
       "      <td>1</td>\n",
       "    </tr>\n",
       "    <tr>\n",
       "      <th>10805</th>\n",
       "      <td>moga allah mudah urus amp orang keliling kisah pasal assignment kerja</td>\n",
       "      <td>1</td>\n",
       "    </tr>\n",
       "  </tbody>\n",
       "</table>\n",
       "</div>"
      ],
      "text/plain": [
       "                                                                       Tweet  \\\n",
       "10803                              apa laku apa salah temu maaf hati botkece   \n",
       "10804                                                                  hafal   \n",
       "10805  moga allah mudah urus amp orang keliling kisah pasal assignment kerja   \n",
       "\n",
       "       sentimen  \n",
       "10803         1  \n",
       "10804         1  \n",
       "10805         1  "
      ]
     },
     "execution_count": 131,
     "metadata": {},
     "output_type": "execute_result"
    }
   ],
   "source": [
    "df_final_labeled.tail(3)"
   ]
  },
  {
   "cell_type": "code",
   "execution_count": 126,
   "metadata": {},
   "outputs": [],
   "source": [
    "df_final_labeled['sentimen']=data_labeled['sentimen']"
   ]
  },
  {
   "cell_type": "code",
   "execution_count": 127,
   "metadata": {
    "scrolled": true
   },
   "outputs": [
    {
     "data": {
      "text/html": [
       "<div>\n",
       "<style scoped>\n",
       "    .dataframe tbody tr th:only-of-type {\n",
       "        vertical-align: middle;\n",
       "    }\n",
       "\n",
       "    .dataframe tbody tr th {\n",
       "        vertical-align: top;\n",
       "    }\n",
       "\n",
       "    .dataframe thead th {\n",
       "        text-align: right;\n",
       "    }\n",
       "</style>\n",
       "<table border=\"1\" class=\"dataframe\">\n",
       "  <thead>\n",
       "    <tr style=\"text-align: right;\">\n",
       "      <th></th>\n",
       "      <th>Tweet</th>\n",
       "      <th>sentimen</th>\n",
       "    </tr>\n",
       "  </thead>\n",
       "  <tbody>\n",
       "    <tr>\n",
       "      <th>0</th>\n",
       "      <td>lagu bosan save huhuhuhuhuhuhuhuhuhuuuuuuuuuuuuuu</td>\n",
       "      <td>-1</td>\n",
       "    </tr>\n",
       "    <tr>\n",
       "      <th>1</th>\n",
       "      <td>lanjut diam erti sama libat hati</td>\n",
       "      <td>-1</td>\n",
       "    </tr>\n",
       "    <tr>\n",
       "      <th>2</th>\n",
       "      <td>doa rezeki putus inna haa zaa larizquna maa lahu min fadesungguhnya beri p</td>\n",
       "      <td>1</td>\n",
       "    </tr>\n",
       "    <tr>\n",
       "      <th>3</th>\n",
       "      <td>loh hasil sisa</td>\n",
       "      <td>1</td>\n",
       "    </tr>\n",
       "    <tr>\n",
       "      <th>4</th>\n",
       "      <td>faham jenis orang malaysia ret sangkut hose geli bodoh pegang</td>\n",
       "      <td>-1</td>\n",
       "    </tr>\n",
       "  </tbody>\n",
       "</table>\n",
       "</div>"
      ],
      "text/plain": [
       "                                                                        Tweet  \\\n",
       "0                           lagu bosan save huhuhuhuhuhuhuhuhuhuuuuuuuuuuuuuu   \n",
       "1                                            lanjut diam erti sama libat hati   \n",
       "2  doa rezeki putus inna haa zaa larizquna maa lahu min fadesungguhnya beri p   \n",
       "3                                                              loh hasil sisa   \n",
       "4               faham jenis orang malaysia ret sangkut hose geli bodoh pegang   \n",
       "\n",
       "   sentimen  \n",
       "0        -1  \n",
       "1        -1  \n",
       "2         1  \n",
       "3         1  \n",
       "4        -1  "
      ]
     },
     "execution_count": 127,
     "metadata": {},
     "output_type": "execute_result"
    }
   ],
   "source": [
    "df_final_labeled.head()"
   ]
  },
  {
   "cell_type": "markdown",
   "metadata": {
    "id": "XV2ltdEqbfz_"
   },
   "source": [
    "### Create Bag of Words"
   ]
  },
  {
   "cell_type": "code",
   "execution_count": 81,
   "metadata": {},
   "outputs": [
    {
     "name": "stdout",
     "output_type": "stream",
     "text": [
      "(10806, 25)\n",
      "(10806,)\n"
     ]
    }
   ],
   "source": [
    "from sklearn.feature_extraction.text import CountVectorizer\n",
    "\n",
    "cv = CountVectorizer(max_features = 25)\n",
    "x = cv.fit_transform(finaldata_labeled).toarray()\n",
    "# x = cv.fit_transform(df_final_labeled['Tweet'].values.astype('U'))\n",
    "y = data_labeled.iloc[:, 0]\n",
    "\n",
    "print(x.shape)\n",
    "print(y.shape)"
   ]
  },
  {
   "cell_type": "markdown",
   "metadata": {
    "id": "XV2ltdEqbfz_"
   },
   "source": [
    "### Split Data"
   ]
  },
  {
   "cell_type": "code",
   "execution_count": 82,
   "metadata": {},
   "outputs": [
    {
     "name": "stdout",
     "output_type": "stream",
     "text": [
      "(9725, 25)\n",
      "(1081, 25)\n",
      "(9725,)\n",
      "(1081,)\n"
     ]
    }
   ],
   "source": [
    "from sklearn.model_selection import train_test_split\n",
    "\n",
    "x_train, x_valid, y_train, y_valid = train_test_split(x, y, test_size = 0.1, random_state = 1)\n",
    "\n",
    "print(x_train.shape)\n",
    "print(x_valid.shape)\n",
    "print(y_train.shape)\n",
    "print(y_valid.shape)"
   ]
  },
  {
   "cell_type": "markdown",
   "metadata": {
    "id": "XV2ltdEqbfz_"
   },
   "source": [
    "### Standarization"
   ]
  },
  {
   "cell_type": "code",
   "execution_count": 83,
   "metadata": {},
   "outputs": [],
   "source": [
    "from sklearn.preprocessing import StandardScaler\n",
    "\n",
    "sc = StandardScaler()\n",
    "\n",
    "x_train = sc.fit_transform(x_train)\n",
    "x_valid = sc.transform(x_valid)"
   ]
  },
  {
   "cell_type": "markdown",
   "metadata": {
    "id": "XV2ltdEqbfz_"
   },
   "source": [
    "### Random Forest"
   ]
  },
  {
   "cell_type": "code",
   "execution_count": 84,
   "metadata": {},
   "outputs": [
    {
     "name": "stdout",
     "output_type": "stream",
     "text": [
      "Training Accuracy : 0.5443701799485862\n",
      "Validation Accuracy : 0.5291396854764108\n",
      "F1 score : [0.17127072 0.67456446 0.31232877]\n",
      "[[ 31 246  35]\n",
      " [ 12 484  28]\n",
      " [  7 181  57]]\n"
     ]
    }
   ],
   "source": [
    "from sklearn.ensemble import RandomForestClassifier\n",
    "from sklearn.metrics import confusion_matrix\n",
    "from sklearn.metrics import f1_score\n",
    "\n",
    "model = RandomForestClassifier()\n",
    "model.fit(x_train, y_train)\n",
    "\n",
    "y_pred = model.predict(x_valid)\n",
    "\n",
    "print(\"Training Accuracy :\", model.score(x_train, y_train))\n",
    "print(\"Validation Accuracy :\", model.score(x_valid, y_valid))\n",
    "\n",
    "# calculating the f1 score for the validation set\n",
    "print(\"F1 score :\", f1_score(y_valid, y_pred, average=None))\n",
    "\n",
    "# confusion matrix\n",
    "cm = confusion_matrix(y_valid, y_pred)\n",
    "print(cm)"
   ]
  },
  {
   "cell_type": "markdown",
   "metadata": {
    "id": "XV2ltdEqbfz_"
   },
   "source": [
    "### Logistic Regression"
   ]
  },
  {
   "cell_type": "code",
   "execution_count": null,
   "metadata": {},
   "outputs": [],
   "source": [
    "from sklearn.linear_model import LogisticRegression\n",
    "\n",
    "model = LogisticRegression()\n",
    "model.fit(x_train, y_train)\n",
    "\n",
    "y_pred = model.predict(x_valid)\n",
    "\n",
    "print(\"Training Accuracy :\", model.score(x_train, y_train))\n",
    "print(\"Validation Accuracy :\", model.score(x_valid, y_valid))\n",
    "\n",
    "# calculating the f1 score for the validation set\n",
    "print(\"f1 score :\", f1_score(y_valid, y_pred, average=None))\n",
    "\n",
    "# confusion matrix\n",
    "cm = confusion_matrix(y_valid, y_pred)\n",
    "print(cm)"
   ]
  },
  {
   "cell_type": "markdown",
   "metadata": {
    "id": "XV2ltdEqbfz_"
   },
   "source": [
    "### Decision Tree"
   ]
  },
  {
   "cell_type": "code",
   "execution_count": null,
   "metadata": {},
   "outputs": [],
   "source": [
    "from sklearn.tree import DecisionTreeClassifier\n",
    "\n",
    "model = DecisionTreeClassifier()\n",
    "model.fit(x_train, y_train)\n",
    "\n",
    "y_pred = model.predict(x_valid)\n",
    "\n",
    "print(\"Training Accuracy :\", model.score(x_train, y_train))\n",
    "print(\"Validation Accuracy :\", model.score(x_valid, y_valid))\n",
    "\n",
    "# calculating the f1 score for the validation set\n",
    "print(\"f1 score :\", f1_score(y_valid, y_pred, average=None))\n",
    "\n",
    "# confusion matrix\n",
    "cm = confusion_matrix(y_valid, y_pred)\n",
    "print(cm)"
   ]
  },
  {
   "cell_type": "markdown",
   "metadata": {
    "id": "XV2ltdEqbfz_"
   },
   "source": [
    "### Support Vector Classifier (SVC)"
   ]
  },
  {
   "cell_type": "code",
   "execution_count": null,
   "metadata": {},
   "outputs": [],
   "source": [
    "from sklearn.svm import SVC\n",
    "\n",
    "model = SVC()\n",
    "model.fit(x_train, y_train)\n",
    "\n",
    "y_pred = model.predict(x_valid)\n",
    "\n",
    "print(\"Training Accuracy :\", model.score(x_train, y_train))\n",
    "print(\"Validation Accuracy :\", model.score(x_valid, y_valid))\n",
    "\n",
    "# calculating the f1 score for the validation set\n",
    "print(\"f1 score :\", f1_score(y_valid, y_pred, average=None))\n",
    "\n",
    "# confusion matrix\n",
    "cm = confusion_matrix(y_valid, y_pred)\n",
    "print(cm)"
   ]
  },
  {
   "cell_type": "markdown",
   "metadata": {
    "id": "XV2ltdEqbfz_"
   },
   "source": [
    "### XGBClassifier"
   ]
  },
  {
   "cell_type": "code",
   "execution_count": 46,
   "metadata": {},
   "outputs": [
    {
     "name": "stdout",
     "output_type": "stream",
     "text": [
      "Collecting xgboost\n",
      "  Downloading xgboost-1.5.1-py3-none-macosx_10_15_x86_64.macosx_11_0_x86_64.macosx_12_0_x86_64.whl (1.3 MB)\n",
      "\u001b[K     |████████████████████████████████| 1.3 MB 1.6 MB/s eta 0:00:01\n",
      "\u001b[?25hRequirement already satisfied: numpy in /Users/alfarizy/opt/anaconda3/lib/python3.9/site-packages (from xgboost) (1.20.3)\n",
      "Requirement already satisfied: scipy in /Users/alfarizy/opt/anaconda3/lib/python3.9/site-packages (from xgboost) (1.7.1)\n",
      "Installing collected packages: xgboost\n",
      "Successfully installed xgboost-1.5.1\n",
      "Note: you may need to restart the kernel to use updated packages.\n"
     ]
    }
   ],
   "source": [
    "pip install xgboost"
   ]
  },
  {
   "cell_type": "code",
   "execution_count": 49,
   "metadata": {},
   "outputs": [
    {
     "ename": "XGBoostError",
     "evalue": "\nXGBoost Library (libxgboost.dylib) could not be loaded.\nLikely causes:\n  * OpenMP runtime is not installed\n    - vcomp140.dll or libgomp-1.dll for Windows\n    - libomp.dylib for Mac OSX\n    - libgomp.so for Linux and other UNIX-like OSes\n    Mac OSX users: Run `brew install libomp` to install OpenMP runtime.\n\n  * You are running 32-bit Python on a 64-bit OS\n\nError message(s): [\"dlopen(/Users/alfarizy/opt/anaconda3/lib/python3.9/site-packages/xgboost/lib/libxgboost.dylib, 0x0006): Library not loaded: /usr/local/opt/libomp/lib/libomp.dylib\\n  Referenced from: /Users/alfarizy/opt/anaconda3/lib/python3.9/site-packages/xgboost/lib/libxgboost.dylib\\n  Reason: tried: '/usr/local/opt/libomp/lib/libomp.dylib' (no such file), '/usr/local/lib/libomp.dylib' (no such file), '/usr/lib/libomp.dylib' (no such file)\"]\n",
     "output_type": "error",
     "traceback": [
      "\u001b[0;31m---------------------------------------------------------------------------\u001b[0m",
      "\u001b[0;31mXGBoostError\u001b[0m                              Traceback (most recent call last)",
      "\u001b[0;32m/var/folders/k5/xtt3s27j2871mz2vlm00psm40000gn/T/ipykernel_2071/2029865319.py\u001b[0m in \u001b[0;36m<module>\u001b[0;34m\u001b[0m\n\u001b[0;32m----> 1\u001b[0;31m \u001b[0;32mfrom\u001b[0m \u001b[0mxgboost\u001b[0m \u001b[0;32mimport\u001b[0m \u001b[0mXGBClassifier\u001b[0m\u001b[0;34m\u001b[0m\u001b[0;34m\u001b[0m\u001b[0m\n\u001b[0m\u001b[1;32m      2\u001b[0m \u001b[0;34m\u001b[0m\u001b[0m\n\u001b[1;32m      3\u001b[0m \u001b[0mmodel\u001b[0m \u001b[0;34m=\u001b[0m \u001b[0mXGBClassifier\u001b[0m\u001b[0;34m(\u001b[0m\u001b[0;34m)\u001b[0m\u001b[0;34m\u001b[0m\u001b[0;34m\u001b[0m\u001b[0m\n\u001b[1;32m      4\u001b[0m \u001b[0mmodel\u001b[0m\u001b[0;34m.\u001b[0m\u001b[0mfit\u001b[0m\u001b[0;34m(\u001b[0m\u001b[0mx_train\u001b[0m\u001b[0;34m,\u001b[0m \u001b[0my_train\u001b[0m\u001b[0;34m)\u001b[0m\u001b[0;34m\u001b[0m\u001b[0;34m\u001b[0m\u001b[0m\n\u001b[1;32m      5\u001b[0m \u001b[0;34m\u001b[0m\u001b[0m\n",
      "\u001b[0;32m~/opt/anaconda3/lib/python3.9/site-packages/xgboost/__init__.py\u001b[0m in \u001b[0;36m<module>\u001b[0;34m\u001b[0m\n\u001b[1;32m      7\u001b[0m \u001b[0;32mimport\u001b[0m \u001b[0mos\u001b[0m\u001b[0;34m\u001b[0m\u001b[0;34m\u001b[0m\u001b[0m\n\u001b[1;32m      8\u001b[0m \u001b[0;34m\u001b[0m\u001b[0m\n\u001b[0;32m----> 9\u001b[0;31m \u001b[0;32mfrom\u001b[0m \u001b[0;34m.\u001b[0m\u001b[0mcore\u001b[0m \u001b[0;32mimport\u001b[0m \u001b[0mDMatrix\u001b[0m\u001b[0;34m,\u001b[0m \u001b[0mDeviceQuantileDMatrix\u001b[0m\u001b[0;34m,\u001b[0m \u001b[0mBooster\u001b[0m\u001b[0;34m,\u001b[0m \u001b[0mDataIter\u001b[0m\u001b[0;34m\u001b[0m\u001b[0;34m\u001b[0m\u001b[0m\n\u001b[0m\u001b[1;32m     10\u001b[0m \u001b[0;32mfrom\u001b[0m \u001b[0;34m.\u001b[0m\u001b[0mtraining\u001b[0m \u001b[0;32mimport\u001b[0m \u001b[0mtrain\u001b[0m\u001b[0;34m,\u001b[0m \u001b[0mcv\u001b[0m\u001b[0;34m\u001b[0m\u001b[0;34m\u001b[0m\u001b[0m\n\u001b[1;32m     11\u001b[0m \u001b[0;32mfrom\u001b[0m \u001b[0;34m.\u001b[0m \u001b[0;32mimport\u001b[0m \u001b[0mrabit\u001b[0m  \u001b[0;31m# noqa\u001b[0m\u001b[0;34m\u001b[0m\u001b[0;34m\u001b[0m\u001b[0m\n",
      "\u001b[0;32m~/opt/anaconda3/lib/python3.9/site-packages/xgboost/core.py\u001b[0m in \u001b[0;36m<module>\u001b[0;34m\u001b[0m\n\u001b[1;32m    201\u001b[0m \u001b[0;34m\u001b[0m\u001b[0m\n\u001b[1;32m    202\u001b[0m \u001b[0;31m# load the XGBoost library globally\u001b[0m\u001b[0;34m\u001b[0m\u001b[0;34m\u001b[0m\u001b[0m\n\u001b[0;32m--> 203\u001b[0;31m \u001b[0m_LIB\u001b[0m \u001b[0;34m=\u001b[0m \u001b[0m_load_lib\u001b[0m\u001b[0;34m(\u001b[0m\u001b[0;34m)\u001b[0m\u001b[0;34m\u001b[0m\u001b[0;34m\u001b[0m\u001b[0m\n\u001b[0m\u001b[1;32m    204\u001b[0m \u001b[0;34m\u001b[0m\u001b[0m\n\u001b[1;32m    205\u001b[0m \u001b[0;34m\u001b[0m\u001b[0m\n",
      "\u001b[0;32m~/opt/anaconda3/lib/python3.9/site-packages/xgboost/core.py\u001b[0m in \u001b[0;36m_load_lib\u001b[0;34m()\u001b[0m\n\u001b[1;32m    179\u001b[0m     \u001b[0;32mif\u001b[0m \u001b[0;32mnot\u001b[0m \u001b[0mlib_success\u001b[0m\u001b[0;34m:\u001b[0m\u001b[0;34m\u001b[0m\u001b[0;34m\u001b[0m\u001b[0m\n\u001b[1;32m    180\u001b[0m         \u001b[0mlibname\u001b[0m \u001b[0;34m=\u001b[0m \u001b[0mos\u001b[0m\u001b[0;34m.\u001b[0m\u001b[0mpath\u001b[0m\u001b[0;34m.\u001b[0m\u001b[0mbasename\u001b[0m\u001b[0;34m(\u001b[0m\u001b[0mlib_paths\u001b[0m\u001b[0;34m[\u001b[0m\u001b[0;36m0\u001b[0m\u001b[0;34m]\u001b[0m\u001b[0;34m)\u001b[0m\u001b[0;34m\u001b[0m\u001b[0;34m\u001b[0m\u001b[0m\n\u001b[0;32m--> 181\u001b[0;31m         raise XGBoostError(\n\u001b[0m\u001b[1;32m    182\u001b[0m             f\"\"\"\n\u001b[1;32m    183\u001b[0m \u001b[0mXGBoost\u001b[0m \u001b[0mLibrary\u001b[0m \u001b[0;34m(\u001b[0m\u001b[0;34m{\u001b[0m\u001b[0mlibname\u001b[0m\u001b[0;34m}\u001b[0m\u001b[0;34m)\u001b[0m \u001b[0mcould\u001b[0m \u001b[0;32mnot\u001b[0m \u001b[0mbe\u001b[0m \u001b[0mloaded\u001b[0m\u001b[0;34m.\u001b[0m\u001b[0;34m\u001b[0m\u001b[0;34m\u001b[0m\u001b[0m\n",
      "\u001b[0;31mXGBoostError\u001b[0m: \nXGBoost Library (libxgboost.dylib) could not be loaded.\nLikely causes:\n  * OpenMP runtime is not installed\n    - vcomp140.dll or libgomp-1.dll for Windows\n    - libomp.dylib for Mac OSX\n    - libgomp.so for Linux and other UNIX-like OSes\n    Mac OSX users: Run `brew install libomp` to install OpenMP runtime.\n\n  * You are running 32-bit Python on a 64-bit OS\n\nError message(s): [\"dlopen(/Users/alfarizy/opt/anaconda3/lib/python3.9/site-packages/xgboost/lib/libxgboost.dylib, 0x0006): Library not loaded: /usr/local/opt/libomp/lib/libomp.dylib\\n  Referenced from: /Users/alfarizy/opt/anaconda3/lib/python3.9/site-packages/xgboost/lib/libxgboost.dylib\\n  Reason: tried: '/usr/local/opt/libomp/lib/libomp.dylib' (no such file), '/usr/local/lib/libomp.dylib' (no such file), '/usr/lib/libomp.dylib' (no such file)\"]\n"
     ]
    }
   ],
   "source": [
    "from xgboost import XGBClassifier\n",
    "\n",
    "model = XGBClassifier()\n",
    "model.fit(x_train, y_train)\n",
    "\n",
    "y_pred = model.predict(x_valid)\n",
    "\n",
    "print(\"Training Accuracy :\", model.score(x_train, y_train))\n",
    "print(\"Validation Accuracy :\", model.score(x_valid, y_valid))\n",
    "\n",
    "# calculating the f1 score for the validation set\n",
    "print(\"f1 score :\", f1_score(y_valid, y_pred, average=None))\n",
    "\n",
    "# confusion matrix\n",
    "cm = confusion_matrix(y_valid, y_pred)\n",
    "print(cm)"
   ]
  },
  {
   "cell_type": "markdown",
   "metadata": {
    "id": "XV2ltdEqbfz_"
   },
   "source": [
    "### KNN"
   ]
  },
  {
   "cell_type": "code",
   "execution_count": null,
   "metadata": {},
   "outputs": [],
   "source": [
    "from sklearn.neighbors import KNeighborsClassifier\n",
    "import numpy as np\n",
    "import matplotlib.pyplot as plt\n",
    "\n",
    "err_rates = []\n",
    "for idx in range(1,20):\n",
    "    knn = KNeighborsClassifier(n_neighbors = idx)\n",
    "    knn.fit(x_train, y_train)\n",
    "    pred_idx = knn.predict(x_valid)\n",
    "    err_rates.append(np.mean(y_valid != pred_idx))\n",
    "\n",
    "plt.style.use('ggplot')\n",
    "plt.subplots(figsize = (10,6))\n",
    "plt.plot(range(1,50), err_rates, linestyle = 'dashed', color = 'blue', marker = 'o', markerfacecolor = 'red')\n",
    "plt.xlabel('K-value')\n",
    "plt.ylabel('Error Rate')\n",
    "plt.title('Error Rate vs K-value')"
   ]
  },
  {
   "cell_type": "code",
   "execution_count": null,
   "metadata": {},
   "outputs": [],
   "source": [
    "from sklearn.metrics import accuracy_score\n",
    "\n",
    "from sklearn.metrics import confusion_matrix, classification_report\n",
    "\n",
    "new_KNN = KNeighborsClassifier(n_neighbors = 13)\n",
    "\n",
    "new_KNN.fit(x_train, y_train)\n",
    "\n",
    "y_predict = new_KNN.predict(x_valid)\n",
    "\n",
    "\n",
    "\n",
    "accuracy= accuracy_score(y_valid, y_predict)\n",
    "print(\"Akurasi : \",accuracy)\n",
    "\n",
    "print(confusion_matrix(y_valid,y_predict))\n",
    "\n",
    "print(classification_report(y_valid,y_predict))"
   ]
  },
  {
   "cell_type": "code",
   "execution_count": null,
   "metadata": {},
   "outputs": [],
   "source": []
  }
 ],
 "metadata": {
  "accelerator": "GPU",
  "colab": {
   "collapsed_sections": [
    "K_mS5dEyaDDz",
    "esgQCOgidDK_",
    "I0t7e5kOoq3T"
   ],
   "name": "Data_Analyst_PT_Codemi (1).ipynb",
   "provenance": [],
   "toc_visible": true
  },
  "kernelspec": {
   "display_name": "Python 3 (ipykernel)",
   "language": "python",
   "name": "python3"
  },
  "language_info": {
   "codemirror_mode": {
    "name": "ipython",
    "version": 3
   },
   "file_extension": ".py",
   "mimetype": "text/x-python",
   "name": "python",
   "nbconvert_exporter": "python",
   "pygments_lexer": "ipython3",
   "version": "3.9.7"
  }
 },
 "nbformat": 4,
 "nbformat_minor": 1
}
